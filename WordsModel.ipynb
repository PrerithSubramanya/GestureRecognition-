{
 "cells": [
  {
   "cell_type": "code",
   "execution_count": 1,
   "id": "738af93d",
   "metadata": {},
   "outputs": [],
   "source": [
    "from tensorflow_docs.vis import embed\n",
    "from sklearn.model_selection import train_test_split\n",
    "from tensorflow.keras.utils import to_categorical\n",
    "from sklearn.metrics import confusion_matrix, accuracy_score\n",
    "from sklearn.metrics import ConfusionMatrixDisplay\n",
    "import matplotlib.pyplot as plt\n",
    "import DataCreation as Dc\n",
    "import FeatureExtract as Fe\n",
    "import ModelBuild as Mb\n",
    "import numpy as np\n",
    "import cv2\n",
    "import os\n",
    "import logging\n",
    "import secrets\n",
    "import imageio\n",
    "logging.disable(logging.WARNING)\n",
    "os.environ[\"TF_CPP_MIN_LOG_LEVEL\"] = \"3\""
   ]
  },
  {
   "cell_type": "code",
   "execution_count": 2,
   "id": "3764bc23",
   "metadata": {},
   "outputs": [],
   "source": [
    "Data = Dc.collectData('Words', None, None)"
   ]
  },
  {
   "cell_type": "code",
   "execution_count": 3,
   "id": "7c202adc",
   "metadata": {},
   "outputs": [],
   "source": [
    "Data.frameVideo()"
   ]
  },
  {
   "cell_type": "code",
   "execution_count": 2,
   "id": "9b903031",
   "metadata": {},
   "outputs": [],
   "source": [
    "extract_data = Fe.FeatureExtraction()"
   ]
  },
  {
   "cell_type": "code",
   "execution_count": 3,
   "id": "eac66d96",
   "metadata": {},
   "outputs": [],
   "source": [
    "extract_data.extract_coordinates('Words', 60)"
   ]
  },
  {
   "cell_type": "code",
   "execution_count": 4,
   "id": "c5af7ad7",
   "metadata": {},
   "outputs": [],
   "source": [
    "landmark, classes = extract_data.concatenate_data_pts('Words', 60)"
   ]
  },
  {
   "cell_type": "code",
   "execution_count": 5,
   "id": "1a6ddad5",
   "metadata": {},
   "outputs": [],
   "source": [
    "np.save(os.path.join(os.getcwd(), 'WordClasses'), classes)\n",
    "np.save(os.path.join(os.getcwd(), 'WordLandmarks'), landmark)"
   ]
  },
  {
   "cell_type": "code",
   "execution_count": 2,
   "id": "484e4637",
   "metadata": {},
   "outputs": [],
   "source": [
    "X = np.load('vidLandmarks.npy')\n",
    "Y = np.load('vidClasses.npy')\n",
    "Y = to_categorical(Y).astype(int)"
   ]
  },
  {
   "cell_type": "code",
   "execution_count": 3,
   "id": "967ed726",
   "metadata": {},
   "outputs": [
    {
     "name": "stdout",
     "output_type": "stream",
     "text": [
      "(2400, 60, 258)\n",
      "(2340, 60, 258) (2340, 16)\n"
     ]
    }
   ],
   "source": [
    "print(X.shape)\n",
    "XTrain, XTest, YTrain, YTest = train_test_split(X, Y, test_size=0.025)\n",
    "print(XTrain.shape, YTrain.shape)"
   ]
  },
  {
   "cell_type": "code",
   "execution_count": 4,
   "id": "60b311d5",
   "metadata": {},
   "outputs": [
    {
     "name": "stdout",
     "output_type": "stream",
     "text": [
      "Model: \"model\"\n",
      "_________________________________________________________________\n",
      "Layer (type)                 Output Shape              Param #   \n",
      "=================================================================\n",
      "input_1 (InputLayer)         [(None, None, None)]      0         \n",
      "_________________________________________________________________\n",
      "frame_position_embedding (Po (None, None, 258)         15480     \n",
      "_________________________________________________________________\n",
      "transformer_encode_layer (Tr (None, None, 258)         806257    \n",
      "_________________________________________________________________\n",
      "global_max_pooling1d (Global (None, 258)               0         \n",
      "_________________________________________________________________\n",
      "dropout (Dropout)            (None, 258)               0         \n",
      "_________________________________________________________________\n",
      "dense_2 (Dense)              (None, 16)                4144      \n",
      "=================================================================\n",
      "Total params: 825,881\n",
      "Trainable params: 825,881\n",
      "Non-trainable params: 0\n",
      "_________________________________________________________________\n",
      "None\n",
      "Epoch 1/50\n",
      "49/49 [==============================] - 5s 55ms/step - loss: 4.8300 - categorical_accuracy: 0.0855 - val_loss: 2.1974 - val_categorical_accuracy: 0.1746\n",
      "\n",
      "Epoch 00001: val_loss improved from inf to 2.19736, saving model to D:\\downloads\\UOW\\CSIT998 project\\project\\ASL\\projectrefactoring\\word_weights.hdf5\n",
      "Epoch 2/50\n",
      "49/49 [==============================] - 2s 33ms/step - loss: 3.3918 - categorical_accuracy: 0.1768 - val_loss: 1.9898 - val_categorical_accuracy: 0.1798\n",
      "\n",
      "Epoch 00002: val_loss improved from 2.19736 to 1.98980, saving model to D:\\downloads\\UOW\\CSIT998 project\\project\\ASL\\projectrefactoring\\word_weights.hdf5\n",
      "Epoch 3/50\n",
      "49/49 [==============================] - 2s 33ms/step - loss: 2.7350 - categorical_accuracy: 0.2227 - val_loss: 1.6951 - val_categorical_accuracy: 0.3325\n",
      "\n",
      "Epoch 00003: val_loss improved from 1.98980 to 1.69511, saving model to D:\\downloads\\UOW\\CSIT998 project\\project\\ASL\\projectrefactoring\\word_weights.hdf5\n",
      "Epoch 4/50\n",
      "49/49 [==============================] - 2s 33ms/step - loss: 2.1202 - categorical_accuracy: 0.2891 - val_loss: 1.4428 - val_categorical_accuracy: 0.5408\n",
      "\n",
      "Epoch 00004: val_loss improved from 1.69511 to 1.44277, saving model to D:\\downloads\\UOW\\CSIT998 project\\project\\ASL\\projectrefactoring\\word_weights.hdf5\n",
      "Epoch 5/50\n",
      "49/49 [==============================] - 2s 33ms/step - loss: 1.5969 - categorical_accuracy: 0.4295 - val_loss: 1.0687 - val_categorical_accuracy: 0.6468\n",
      "\n",
      "Epoch 00005: val_loss improved from 1.44277 to 1.06871, saving model to D:\\downloads\\UOW\\CSIT998 project\\project\\ASL\\projectrefactoring\\word_weights.hdf5\n",
      "Epoch 6/50\n",
      "49/49 [==============================] - 2s 33ms/step - loss: 1.2549 - categorical_accuracy: 0.5501 - val_loss: 0.7929 - val_categorical_accuracy: 0.7115\n",
      "\n",
      "Epoch 00006: val_loss improved from 1.06871 to 0.79291, saving model to D:\\downloads\\UOW\\CSIT998 project\\project\\ASL\\projectrefactoring\\word_weights.hdf5\n",
      "Epoch 7/50\n",
      "49/49 [==============================] - 2s 34ms/step - loss: 1.0318 - categorical_accuracy: 0.6158 - val_loss: 0.7660 - val_categorical_accuracy: 0.6740\n",
      "\n",
      "Epoch 00007: val_loss improved from 0.79291 to 0.76601, saving model to D:\\downloads\\UOW\\CSIT998 project\\project\\ASL\\projectrefactoring\\word_weights.hdf5\n",
      "Epoch 8/50\n",
      "49/49 [==============================] - 2s 33ms/step - loss: 0.9030 - categorical_accuracy: 0.6669 - val_loss: 0.7037 - val_categorical_accuracy: 0.7361\n",
      "\n",
      "Epoch 00008: val_loss improved from 0.76601 to 0.70368, saving model to D:\\downloads\\UOW\\CSIT998 project\\project\\ASL\\projectrefactoring\\word_weights.hdf5\n",
      "Epoch 9/50\n",
      "49/49 [==============================] - 2s 34ms/step - loss: 0.7475 - categorical_accuracy: 0.7250 - val_loss: 0.5083 - val_categorical_accuracy: 0.7969\n",
      "\n",
      "Epoch 00009: val_loss improved from 0.70368 to 0.50825, saving model to D:\\downloads\\UOW\\CSIT998 project\\project\\ASL\\projectrefactoring\\word_weights.hdf5\n",
      "Epoch 10/50\n",
      "49/49 [==============================] - 2s 34ms/step - loss: 0.6417 - categorical_accuracy: 0.7530 - val_loss: 0.4219 - val_categorical_accuracy: 0.8396\n",
      "\n",
      "Epoch 00010: val_loss improved from 0.50825 to 0.42187, saving model to D:\\downloads\\UOW\\CSIT998 project\\project\\ASL\\projectrefactoring\\word_weights.hdf5\n",
      "Epoch 11/50\n",
      "49/49 [==============================] - 2s 33ms/step - loss: 0.5628 - categorical_accuracy: 0.7811 - val_loss: 0.4357 - val_categorical_accuracy: 0.8266\n",
      "\n",
      "Epoch 00011: val_loss did not improve from 0.42187\n",
      "Epoch 12/50\n",
      "49/49 [==============================] - 2s 33ms/step - loss: 0.5267 - categorical_accuracy: 0.8073 - val_loss: 0.3455 - val_categorical_accuracy: 0.8991\n",
      "\n",
      "Epoch 00012: val_loss improved from 0.42187 to 0.34553, saving model to D:\\downloads\\UOW\\CSIT998 project\\project\\ASL\\projectrefactoring\\word_weights.hdf5\n",
      "Epoch 13/50\n",
      "49/49 [==============================] - 2s 33ms/step - loss: 0.4572 - categorical_accuracy: 0.8226 - val_loss: 0.3074 - val_categorical_accuracy: 0.9017\n",
      "\n",
      "Epoch 00013: val_loss improved from 0.34553 to 0.30737, saving model to D:\\downloads\\UOW\\CSIT998 project\\project\\ASL\\projectrefactoring\\word_weights.hdf5\n",
      "Epoch 14/50\n",
      "49/49 [==============================] - 2s 33ms/step - loss: 0.4184 - categorical_accuracy: 0.8405 - val_loss: 0.2863 - val_categorical_accuracy: 0.8978\n",
      "\n",
      "Epoch 00014: val_loss improved from 0.30737 to 0.28630, saving model to D:\\downloads\\UOW\\CSIT998 project\\project\\ASL\\projectrefactoring\\word_weights.hdf5\n",
      "Epoch 15/50\n",
      "49/49 [==============================] - 2s 33ms/step - loss: 0.4004 - categorical_accuracy: 0.8456 - val_loss: 0.3670 - val_categorical_accuracy: 0.8564\n",
      "\n",
      "Epoch 00015: val_loss did not improve from 0.28630\n",
      "Epoch 16/50\n",
      "49/49 [==============================] - 2s 35ms/step - loss: 0.3340 - categorical_accuracy: 0.8807 - val_loss: 0.1912 - val_categorical_accuracy: 0.9418\n",
      "\n",
      "Epoch 00016: val_loss improved from 0.28630 to 0.19123, saving model to D:\\downloads\\UOW\\CSIT998 project\\project\\ASL\\projectrefactoring\\word_weights.hdf5\n",
      "Epoch 17/50\n",
      "49/49 [==============================] - 2s 34ms/step - loss: 0.2911 - categorical_accuracy: 0.8915 - val_loss: 0.2848 - val_categorical_accuracy: 0.8939\n",
      "\n",
      "Epoch 00017: val_loss did not improve from 0.19123\n",
      "Epoch 18/50\n",
      "49/49 [==============================] - 2s 34ms/step - loss: 0.3437 - categorical_accuracy: 0.8692 - val_loss: 0.1879 - val_categorical_accuracy: 0.9625\n",
      "\n",
      "Epoch 00018: val_loss improved from 0.19123 to 0.18786, saving model to D:\\downloads\\UOW\\CSIT998 project\\project\\ASL\\projectrefactoring\\word_weights.hdf5\n",
      "Epoch 19/50\n",
      "49/49 [==============================] - 2s 35ms/step - loss: 0.2940 - categorical_accuracy: 0.9036 - val_loss: 0.2413 - val_categorical_accuracy: 0.9030\n",
      "\n",
      "Epoch 00019: val_loss did not improve from 0.18786\n",
      "Epoch 20/50\n",
      "49/49 [==============================] - 2s 35ms/step - loss: 0.2770 - categorical_accuracy: 0.8985 - val_loss: 0.1759 - val_categorical_accuracy: 0.9457ategorical_accu - ETA: 0s - loss: 0.2770 - categorical_accuracy: 0.89\n",
      "\n",
      "Epoch 00020: val_loss improved from 0.18786 to 0.17595, saving model to D:\\downloads\\UOW\\CSIT998 project\\project\\ASL\\projectrefactoring\\word_weights.hdf5\n",
      "Epoch 21/50\n",
      "49/49 [==============================] - 2s 34ms/step - loss: 0.2129 - categorical_accuracy: 0.9183 - val_loss: 0.1697 - val_categorical_accuracy: 0.9470\n",
      "\n",
      "Epoch 00021: val_loss improved from 0.17595 to 0.16975, saving model to D:\\downloads\\UOW\\CSIT998 project\\project\\ASL\\projectrefactoring\\word_weights.hdf5\n",
      "Epoch 22/50\n",
      "49/49 [==============================] - 2s 34ms/step - loss: 0.2109 - categorical_accuracy: 0.9234 - val_loss: 0.2090 - val_categorical_accuracy: 0.9263\n",
      "\n",
      "Epoch 00022: val_loss did not improve from 0.16975\n",
      "Epoch 23/50\n",
      "49/49 [==============================] - 2s 35ms/step - loss: 0.2162 - categorical_accuracy: 0.9202 - val_loss: 0.1977 - val_categorical_accuracy: 0.9418\n",
      "\n",
      "Epoch 00023: val_loss did not improve from 0.16975\n",
      "Epoch 24/50\n",
      "49/49 [==============================] - 2s 34ms/step - loss: 0.2125 - categorical_accuracy: 0.9183 - val_loss: 0.1658 - val_categorical_accuracy: 0.9431\n",
      "\n",
      "Epoch 00024: val_loss improved from 0.16975 to 0.16585, saving model to D:\\downloads\\UOW\\CSIT998 project\\project\\ASL\\projectrefactoring\\word_weights.hdf5\n"
     ]
    },
    {
     "name": "stdout",
     "output_type": "stream",
     "text": [
      "Epoch 25/50\n",
      "49/49 [==============================] - 2s 34ms/step - loss: 0.1751 - categorical_accuracy: 0.9381 - val_loss: 0.2001 - val_categorical_accuracy: 0.9379\n",
      "\n",
      "Epoch 00025: val_loss did not improve from 0.16585\n",
      "Epoch 26/50\n",
      "49/49 [==============================] - 2s 33ms/step - loss: 0.2023 - categorical_accuracy: 0.9311 - val_loss: 0.2178 - val_categorical_accuracy: 0.9366\n",
      "\n",
      "Epoch 00026: val_loss did not improve from 0.16585\n",
      "Epoch 27/50\n",
      "49/49 [==============================] - 2s 34ms/step - loss: 0.1726 - categorical_accuracy: 0.9432 - val_loss: 0.1992 - val_categorical_accuracy: 0.9392\n",
      "\n",
      "Epoch 00027: val_loss did not improve from 0.16585\n",
      "Epoch 28/50\n",
      "49/49 [==============================] - 2s 35ms/step - loss: 0.1687 - categorical_accuracy: 0.9400 - val_loss: 0.1197 - val_categorical_accuracy: 0.9728\n",
      "\n",
      "Epoch 00028: val_loss improved from 0.16585 to 0.11972, saving model to D:\\downloads\\UOW\\CSIT998 project\\project\\ASL\\projectrefactoring\\word_weights.hdf5\n",
      "Epoch 29/50\n",
      "49/49 [==============================] - 2s 34ms/step - loss: 0.1479 - categorical_accuracy: 0.9477 - val_loss: 0.1565 - val_categorical_accuracy: 0.9457\n",
      "\n",
      "Epoch 00029: val_loss did not improve from 0.11972\n",
      "Epoch 30/50\n",
      "49/49 [==============================] - 2s 33ms/step - loss: 0.1723 - categorical_accuracy: 0.9375 - val_loss: 0.1850 - val_categorical_accuracy: 0.9457\n",
      "\n",
      "Epoch 00030: val_loss did not improve from 0.11972\n",
      "Epoch 31/50\n",
      "49/49 [==============================] - 2s 35ms/step - loss: 0.1921 - categorical_accuracy: 0.9368 - val_loss: 0.1628 - val_categorical_accuracy: 0.9444\n",
      "\n",
      "Epoch 00031: val_loss did not improve from 0.11972\n",
      "Epoch 32/50\n",
      "49/49 [==============================] - 2s 34ms/step - loss: 0.0988 - categorical_accuracy: 0.9681 - val_loss: 0.1762 - val_categorical_accuracy: 0.9534\n",
      "\n",
      "Epoch 00032: val_loss did not improve from 0.11972\n",
      "Epoch 33/50\n",
      "49/49 [==============================] - 2s 33ms/step - loss: 0.1298 - categorical_accuracy: 0.9521 - val_loss: 0.1655 - val_categorical_accuracy: 0.9470\n",
      "\n",
      "Epoch 00033: val_loss did not improve from 0.11972\n",
      "Epoch 34/50\n",
      "49/49 [==============================] - 2s 34ms/step - loss: 0.1553 - categorical_accuracy: 0.9438 - val_loss: 0.0979 - val_categorical_accuracy: 0.9767\n",
      "\n",
      "Epoch 00034: val_loss improved from 0.11972 to 0.09793, saving model to D:\\downloads\\UOW\\CSIT998 project\\project\\ASL\\projectrefactoring\\word_weights.hdf5\n",
      "Epoch 35/50\n",
      "49/49 [==============================] - 2s 34ms/step - loss: 0.1114 - categorical_accuracy: 0.9617 - val_loss: 0.0994 - val_categorical_accuracy: 0.9806 0s - loss: 0.131\n",
      "\n",
      "Epoch 00035: val_loss did not improve from 0.09793\n",
      "Epoch 36/50\n",
      "49/49 [==============================] - 2s 33ms/step - loss: 0.1369 - categorical_accuracy: 0.9458 - val_loss: 0.1577 - val_categorical_accuracy: 0.9612\n",
      "\n",
      "Epoch 00036: val_loss did not improve from 0.09793\n",
      "Epoch 37/50\n",
      "49/49 [==============================] - 2s 33ms/step - loss: 0.1737 - categorical_accuracy: 0.9432 - val_loss: 0.1248 - val_categorical_accuracy: 0.9690\n",
      "\n",
      "Epoch 00037: val_loss did not improve from 0.09793\n",
      "Epoch 38/50\n",
      "49/49 [==============================] - 2s 33ms/step - loss: 0.1055 - categorical_accuracy: 0.9592 - val_loss: 0.1134 - val_categorical_accuracy: 0.9780\n",
      "\n",
      "Epoch 00038: val_loss did not improve from 0.09793\n",
      "Epoch 39/50\n",
      "49/49 [==============================] - 2s 35ms/step - loss: 0.0919 - categorical_accuracy: 0.9719 - val_loss: 0.1230 - val_categorical_accuracy: 0.9664\n",
      "\n",
      "Epoch 00039: val_loss did not improve from 0.09793\n",
      "Epoch 40/50\n",
      "49/49 [==============================] - 2s 33ms/step - loss: 0.1273 - categorical_accuracy: 0.9521 - val_loss: 0.1218 - val_categorical_accuracy: 0.9741\n",
      "\n",
      "Epoch 00040: val_loss did not improve from 0.09793\n",
      "Epoch 41/50\n",
      "49/49 [==============================] - 2s 35ms/step - loss: 0.1576 - categorical_accuracy: 0.9483 - val_loss: 0.1247 - val_categorical_accuracy: 0.9638\n",
      "\n",
      "Epoch 00041: val_loss did not improve from 0.09793\n",
      "Epoch 42/50\n",
      "49/49 [==============================] - 2s 34ms/step - loss: 0.1490 - categorical_accuracy: 0.9387 - val_loss: 0.2542 - val_categorical_accuracy: 0.9069\n",
      "\n",
      "Epoch 00042: val_loss did not improve from 0.09793\n",
      "Epoch 43/50\n",
      "49/49 [==============================] - 2s 34ms/step - loss: 0.0977 - categorical_accuracy: 0.9662 - val_loss: 0.0765 - val_categorical_accuracy: 0.9871\n",
      "\n",
      "Epoch 00043: val_loss improved from 0.09793 to 0.07652, saving model to D:\\downloads\\UOW\\CSIT998 project\\project\\ASL\\projectrefactoring\\word_weights.hdf5\n",
      "Epoch 44/50\n",
      "49/49 [==============================] - 2s 35ms/step - loss: 0.1252 - categorical_accuracy: 0.9566 - val_loss: 0.1140 - val_categorical_accuracy: 0.9741\n",
      "\n",
      "Epoch 00044: val_loss did not improve from 0.07652\n",
      "Epoch 45/50\n",
      "49/49 [==============================] - 2s 35ms/step - loss: 0.0823 - categorical_accuracy: 0.9738 - val_loss: 0.0746 - val_categorical_accuracy: 0.9806\n",
      "\n",
      "Epoch 00045: val_loss improved from 0.07652 to 0.07460, saving model to D:\\downloads\\UOW\\CSIT998 project\\project\\ASL\\projectrefactoring\\word_weights.hdf5\n",
      "Epoch 46/50\n",
      "49/49 [==============================] - 2s 33ms/step - loss: 0.1640 - categorical_accuracy: 0.9426 - val_loss: 0.1086 - val_categorical_accuracy: 0.9767\n",
      "\n",
      "Epoch 00046: val_loss did not improve from 0.07460\n",
      "Epoch 47/50\n",
      "49/49 [==============================] - 2s 33ms/step - loss: 0.0745 - categorical_accuracy: 0.9764 - val_loss: 0.0885 - val_categorical_accuracy: 0.9806\n",
      "\n",
      "Epoch 00047: val_loss did not improve from 0.07460\n",
      "Epoch 48/50\n",
      "49/49 [==============================] - 2s 34ms/step - loss: 0.0585 - categorical_accuracy: 0.9821 - val_loss: 0.1147 - val_categorical_accuracy: 0.9715\n",
      "\n",
      "Epoch 00048: val_loss did not improve from 0.07460\n",
      "Epoch 49/50\n",
      "49/49 [==============================] - 2s 35ms/step - loss: 0.0496 - categorical_accuracy: 0.9809 - val_loss: 0.0819 - val_categorical_accuracy: 0.9767\n",
      "\n",
      "Epoch 00049: val_loss did not improve from 0.07460\n",
      "Epoch 50/50\n",
      "49/49 [==============================] - 2s 35ms/step - loss: 0.0386 - categorical_accuracy: 0.9879 - val_loss: 0.1566 - val_categorical_accuracy: 0.9573\n",
      "\n",
      "Epoch 00050: val_loss did not improve from 0.07460\n"
     ]
    }
   ],
   "source": [
    "Transformer_model = Mb.ModelBuild(X.shape[1], X.shape[2], 7, 3, 16, 50)\n",
    "model = Transformer_model.fitTransform('Words', XTrain, YTrain)"
   ]
  },
  {
   "cell_type": "code",
   "execution_count": 5,
   "id": "1b6853c1",
   "metadata": {},
   "outputs": [
    {
     "data": {
      "image/png": "[encoded data removed]",
      "text/plain": [
       "<Figure size 720x720 with 1 Axes>"
      ]
     },
     "metadata": {
      "needs_background": "light"
     },
     "output_type": "display_data"
    },
    {
     "name": "stdout",
     "output_type": "stream",
     "text": [
      "2/2 [==============================] - 0s 13ms/step - loss: 0.0384 - categorical_accuracy: 0.9833\n",
      "Test accuracy: 98.33%\n"
     ]
    }
   ],
   "source": [
    "Transformer_model.stats(XTest, YTest)"
   ]
  },
  {
   "cell_type": "code",
   "execution_count": 7,
   "id": "094fbca8",
   "metadata": {},
   "outputs": [
    {
     "name": "stdout",
     "output_type": "stream",
     "text": [
      "Model: \"model_2\"\n",
      "_________________________________________________________________\n",
      "Layer (type)                 Output Shape              Param #   \n",
      "=================================================================\n",
      "input_3 (InputLayer)         [(None, None, None)]      0         \n",
      "_________________________________________________________________\n",
      "frame_position_embedding (Po (None, None, 258)         15480     \n",
      "_________________________________________________________________\n",
      "transformer_encode_layer (Tr (None, None, 258)         806257    \n",
      "_________________________________________________________________\n",
      "global_max_pooling1d_2 (Glob (None, 258)               0         \n",
      "_________________________________________________________________\n",
      "dropout_2 (Dropout)          (None, 258)               0         \n",
      "_________________________________________________________________\n",
      "dense_8 (Dense)              (None, 16)                4144      \n",
      "=================================================================\n",
      "Total params: 825,881\n",
      "Trainable params: 825,881\n",
      "Non-trainable params: 0\n",
      "_________________________________________________________________\n",
      "None\n"
     ]
    }
   ],
   "source": [
    "Transformer_model = Mb.ModelBuild(X.shape[1], X.shape[2], 7, 3, 16, 50)\n",
    "model = Transformer_model.constructModel()\n",
    "model.load_weights(os.path.join(os.getcwd(),'word_weights.hdf5'))"
   ]
  },
  {
   "cell_type": "code",
   "execution_count": 8,
   "id": "7eacd51b",
   "metadata": {},
   "outputs": [],
   "source": [
    "res = model.predict(XTest)"
   ]
  },
  {
   "cell_type": "code",
   "execution_count": 9,
   "id": "a135e539",
   "metadata": {},
   "outputs": [],
   "source": [
    "ytrue = np.argmax(YTest, axis=1).tolist()\n",
    "yhat = np.argmax(res, axis=1).tolist()\n",
    "iter_folder = os.listdir(os.path.join(os.getcwd(), 'Data', 'Words'))\n",
    "actions = np.array(os.listdir(os.path.join(os.getcwd(), 'Data', 'Words', iter_folder[0])))"
   ]
  },
  {
   "cell_type": "code",
   "execution_count": 10,
   "id": "62768c1b",
   "metadata": {},
   "outputs": [
    {
     "name": "stdout",
     "output_type": "stream",
     "text": [
      "['Black' 'Cappuccino' 'Chocolate' 'Coffee' 'Flat' 'Hot' 'Large' 'Latte'\n",
      " 'Long' 'No' 'None' 'Regular' 'Short' 'Small' 'White' 'Yes']\n"
     ]
    }
   ],
   "source": [
    "print(actions)"
   ]
  },
  {
   "cell_type": "code",
   "execution_count": 11,
   "id": "578c42b3",
   "metadata": {},
   "outputs": [],
   "source": [
    "cm = confusion_matrix(ytrue, yhat)\n",
    "disp = ConfusionMatrixDisplay(confusion_matrix=cm, display_labels=actions)"
   ]
  },
  {
   "cell_type": "code",
   "execution_count": 12,
   "id": "a8f75bfb",
   "metadata": {},
   "outputs": [
    {
     "data": {
      "image/png": "[encoded data removed]",
      "text/plain": [
       "<Figure size 1440x1008 with 2 Axes>"
      ]
     },
     "metadata": {
      "needs_background": "light"
     },
     "output_type": "display_data"
    }
   ],
   "source": [
    "plt.rcParams[\"figure.figsize\"] = (20,14)\n",
    "disp.plot(cmap=plt.cm.Blues)\n",
    "plt.show()"
   ]
  },
  {
   "cell_type": "code",
   "execution_count": 13,
   "id": "53dab120",
   "metadata": {},
   "outputs": [],
   "source": [
    "feature = Fe.FeatureExtraction()"
   ]
  },
  {
   "cell_type": "code",
   "execution_count": 14,
   "id": "3ec8df7a",
   "metadata": {},
   "outputs": [],
   "source": [
    "def vidfeatureextract(random_test):\n",
    "    sequence =[]\n",
    "    cap = cv2.VideoCapture(os.path.join(os.getcwd(),'test', random_test))\n",
    "    with Fe.mp.solutions.holistic.Holistic(min_detection_confidence=0.5, min_tracking_confidence=0.5) as holistic:\n",
    "        while(cap.isOpened()):\n",
    "            ret, frame = cap.read()\n",
    "    #         print(ret)\n",
    "            if ret is True:\n",
    "                image, results = feature.mp_detect(frame, holistic)\n",
    "                # draw_styled_landmarks(image,results)\n",
    "                keypoints = feature.get_coordinates()\n",
    "                sequence.append(keypoints)\n",
    "                if cv2.waitKey(1) == ord('q'):\n",
    "                    break\n",
    "            else:\n",
    "                break\n",
    "    cap.release()\n",
    "    cv2.destroyAllWindows()\n",
    "    sequence = sequence[-60:]\n",
    "    return sequence\n",
    "\n",
    "def to_gif(images):\n",
    "    reader = imageio.get_reader(os.path.join(os.getcwd(),'test', random_test))\n",
    "    images =[]\n",
    "    for frames in reader:\n",
    "        images.append(frames)\n",
    "    imageio.mimsave(\"animation.gif\", images, fps=15)\n",
    "    return embed.embed_file(\"animation.gif\")\n",
    "\n",
    "def predictPercentage(random_test):\n",
    "    res = model.predict(np.expand_dims(vidfeatureextract(random_test), axis=0))[0]\n",
    "#     print(actions[np.argsort(res)][0], ' : ', res[0], 'Actual video : ', random_test)\n",
    "    counter = 0\n",
    "    for i in np.argsort(res)[::-1]:\n",
    "        if counter == 0:\n",
    "            print(f\"  {actions[i]}: {res[i] * 100:5.2f}% : {random_test}\")\n",
    "            counter += 1\n",
    "        \n",
    "\n",
    "        \n"
   ]
  },
  {
   "cell_type": "code",
   "execution_count": 15,
   "id": "74d9f041",
   "metadata": {},
   "outputs": [
    {
     "name": "stdout",
     "output_type": "stream",
     "text": [
      "  Black: 98.68% : SusBlack-vid7.avi\n",
      "-------------------\n",
      "  Cappuccino: 99.98% : SusCappuccino-vid18.avi\n",
      "-------------------\n",
      "  Latte: 87.65% : SusLatte-vid27.avi\n",
      "-------------------\n",
      "  No: 91.80% : SusNo-vid8.avi\n",
      "-------------------\n",
      "  White: 93.12% : SusWhite-vid5.avi\n",
      "-------------------\n",
      "  Chocolate: 99.68% : testChocolate-vid.avi\n",
      "-------------------\n",
      "  Coffee: 98.79% : testCoffee-vid.avi\n",
      "-------------------\n",
      "  Flat: 99.99% : testFlat-vid.avi\n",
      "-------------------\n",
      "  Hot: 99.99% : testHot-vid.avi\n",
      "-------------------\n",
      "  Large: 99.47% : testLarge-vid.avi\n",
      "-------------------\n",
      "  Long: 99.88% : testLong-vid.avi\n",
      "-------------------\n",
      "  Regular: 99.99% : testRegular-vid.avi\n",
      "-------------------\n",
      "  Short: 99.98% : testShort-vid.avi\n",
      "-------------------\n",
      "  Small: 64.32% : testSmall-vid.avi\n",
      "-------------------\n"
     ]
    }
   ],
   "source": [
    "for items in os.listdir(os.path.join(os.getcwd(), 'test')):\n",
    "#     print(items)\n",
    "    predictPercentage(items)\n",
    "    print(\"-------------------\")\n",
    "#     to_gif(random_test)"
   ]
  },
  {
   "cell_type": "code",
   "execution_count": null,
   "id": "93f10d96",
   "metadata": {},
   "outputs": [],
   "source": []
  }
 ],
 "metadata": {
  "kernelspec": {
   "display_name": "Python 3 (ipykernel)",
   "language": "python",
   "name": "python3"
  },
  "language_info": {
   "codemirror_mode": {
    "name": "ipython",
    "version": 3
   },
   "file_extension": ".py",
   "mimetype": "text/x-python",
   "name": "python",
   "nbconvert_exporter": "python",
   "pygments_lexer": "ipython3",
   "version": "3.9.5"
  }
 },
 "nbformat": 4,
 "nbformat_minor": 5
}
